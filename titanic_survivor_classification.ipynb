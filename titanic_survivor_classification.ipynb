{
 "cells": [
  {
   "cell_type": "markdown",
   "metadata": {},
   "source": [
    "## Problem Statement"
   ]
  },
  {
   "cell_type": "markdown",
   "metadata": {},
   "source": [
    "On April 15, 1912, the HMS Titanic sank, resulting in the death of the majority of passengers and crew members. The goal is to take what information is known about the passengers aboard the Titanic and construct a classification model to predict who was most likely to survive and who would likely perish."
   ]
  },
  {
   "cell_type": "code",
   "execution_count": 2,
   "metadata": {
    "execution": {
     "iopub.execute_input": "2022-10-07T14:52:01.760084Z",
     "iopub.status.busy": "2022-10-07T14:52:01.759671Z",
     "iopub.status.idle": "2022-10-07T14:52:03.710254Z",
     "shell.execute_reply": "2022-10-07T14:52:03.708691Z"
    },
    "papermill": {
     "duration": 1.964523,
     "end_time": "2022-10-07T14:52:03.713357",
     "exception": false,
     "start_time": "2022-10-07T14:52:01.748834",
     "status": "completed"
    },
    "tags": []
   },
   "outputs": [],
   "source": [
    "# data preparating and visualizing\n",
    "import pandas as pd\n",
    "import numpy as np\n",
    "import matplotlib.pyplot as plt\n",
    "import seaborn as sns\n",
    "\n",
    "from sklearn.preprocessing import StandardScaler\n",
    "from sklearn.model_selection import train_test_split\n",
    "from sklearn.decomposition import PCA\n",
    "\n",
    "# algorithms\n",
    "from sklearn.linear_model import LogisticRegression\n",
    "from sklearn import tree\n",
    "from sklearn.tree import DecisionTreeClassifier\n",
    "from sklearn.ensemble import RandomForestClassifier\n",
    "from sklearn.neighbors import KNeighborsClassifier\n",
    "import xgboost as xgb\n",
    "\n",
    "# metrics for model evaluation\n",
    "from sklearn import metrics\n",
    "from sklearn.metrics import confusion_matrix, classification_report, recall_score, precision_score, accuracy_score\n",
    "\n",
    "# tuning the model\n",
    "from sklearn.model_selection import GridSearchCV\n",
    "\n",
    "import warnings\n",
    "warnings.filterwarnings('ignore')"
   ]
  },
  {
   "cell_type": "markdown",
   "metadata": {},
   "source": [
    "# Data Preparation"
   ]
  },
  {
   "cell_type": "code",
   "execution_count": 3,
   "metadata": {
    "execution": {
     "iopub.execute_input": "2022-10-07T14:52:03.735159Z",
     "iopub.status.busy": "2022-10-07T14:52:03.734165Z",
     "iopub.status.idle": "2022-10-07T14:52:03.773413Z",
     "shell.execute_reply": "2022-10-07T14:52:03.771913Z"
    },
    "papermill": {
     "duration": 0.053712,
     "end_time": "2022-10-07T14:52:03.776666",
     "exception": false,
     "start_time": "2022-10-07T14:52:03.722954",
     "status": "completed"
    },
    "tags": []
   },
   "outputs": [],
   "source": [
    "# importing the data sets\n",
    "df_train = pd.read_csv('../input/titanic/train.csv')\n",
    "df_test = pd.read_csv('../input/titanic/test.csv')\n",
    "df_gender = pd.read_csv('../input/titanic/gender_submission.csv')"
   ]
  },
  {
   "cell_type": "markdown",
   "metadata": {},
   "source": [
    "Our data is divided into training and test sets already. The features and labels will be moved into separate dataframes and features which are not likely to be helpful are dropped."
   ]
  },
  {
   "cell_type": "code",
   "execution_count": 4,
   "metadata": {
    "execution": {
     "iopub.execute_input": "2022-10-07T14:52:03.799415Z",
     "iopub.status.busy": "2022-10-07T14:52:03.798730Z",
     "iopub.status.idle": "2022-10-07T14:52:03.831825Z",
     "shell.execute_reply": "2022-10-07T14:52:03.830208Z"
    },
    "papermill": {
     "duration": 0.04722,
     "end_time": "2022-10-07T14:52:03.835028",
     "exception": false,
     "start_time": "2022-10-07T14:52:03.787808",
     "status": "completed"
    },
    "tags": []
   },
   "outputs": [],
   "source": [
    "# creating train dataset\n",
    "df2 = df_train.copy()\n",
    "# imputing na values\n",
    "df2.Age[df2.Age.isna()] = df2.Age.mean()\n",
    "# separating x_train and y_train\n",
    "df3 = df2.drop(['PassengerId', 'Name', 'Ticket', 'Cabin'], axis=1)\n",
    "df3_label = df3.Survived\n",
    "df3_features = df3.drop(['Survived'], axis=1)\n",
    "X_train = pd.get_dummies(df3_features)\n",
    "y_train = df3_label.copy()"
   ]
  },
  {
   "cell_type": "code",
   "execution_count": 5,
   "metadata": {
    "execution": {
     "iopub.execute_input": "2022-10-07T14:52:03.858421Z",
     "iopub.status.busy": "2022-10-07T14:52:03.857342Z",
     "iopub.status.idle": "2022-10-07T14:52:03.879184Z",
     "shell.execute_reply": "2022-10-07T14:52:03.877656Z"
    },
    "papermill": {
     "duration": 0.036481,
     "end_time": "2022-10-07T14:52:03.882494",
     "exception": false,
     "start_time": "2022-10-07T14:52:03.846013",
     "status": "completed"
    },
    "tags": []
   },
   "outputs": [],
   "source": [
    "# creating test dataset\n",
    "df2 = pd.concat([df_test, df_gender.drop(['PassengerId'], axis=1)], axis=1)\n",
    "# imputing na values\n",
    "df2.Age[df2.Age.isna()] = df2.Age.mean()\n",
    "df2.Fare[df2.Fare.isna()] = df2.Fare.mean()\n",
    "# separating x_test and y_test\n",
    "df3 = df2.drop(['PassengerId', 'Name', 'Ticket', 'Cabin'], axis=1)\n",
    "df3_label = df3.Survived\n",
    "df3_features = df3.drop(['Survived'], axis=1)\n",
    "X_test = pd.get_dummies(df3_features)\n",
    "y_test = df3_label.copy()"
   ]
  },
  {
   "cell_type": "code",
   "execution_count": 6,
   "metadata": {
    "execution": {
     "iopub.execute_input": "2022-10-07T14:52:03.904518Z",
     "iopub.status.busy": "2022-10-07T14:52:03.904092Z",
     "iopub.status.idle": "2022-10-07T14:52:03.911114Z",
     "shell.execute_reply": "2022-10-07T14:52:03.909587Z"
    },
    "papermill": {
     "duration": 0.021088,
     "end_time": "2022-10-07T14:52:03.913549",
     "exception": false,
     "start_time": "2022-10-07T14:52:03.892461",
     "status": "completed"
    },
    "tags": []
   },
   "outputs": [],
   "source": [
    "def metrics_score(actual, predicted):\n",
    "    print(classification_report(actual, predicted))\n",
    "    cm = confusion_matrix(actual, predicted)\n",
    "    plt.figure(figsize=(8, 5))\n",
    "    \n",
    "    sns.heatmap(cm, annot=True, fmt='.2f', xticklabels= ['Perished', 'Survived'], yticklabels= ['Perished', 'Survived'])\n",
    "    plt.ylabel('Actual')\n",
    "    plt.xlabel('Predicted')\n",
    "    \n",
    "    plt.show()"
   ]
  },
  {
   "cell_type": "markdown",
   "metadata": {
    "papermill": {
     "duration": 0.009384,
     "end_time": "2022-10-07T14:52:03.932876",
     "exception": false,
     "start_time": "2022-10-07T14:52:03.923492",
     "status": "completed"
    },
    "tags": []
   },
   "source": [
    "## Modeling Building"
   ]
  },
  {
   "cell_type": "markdown",
   "metadata": {},
   "source": [
    "We will test several classification models and see which performs the best."
   ]
  },
  {
   "cell_type": "markdown",
   "metadata": {
    "papermill": {
     "duration": 0.009991,
     "end_time": "2022-10-07T14:52:03.952557",
     "exception": false,
     "start_time": "2022-10-07T14:52:03.942566",
     "status": "completed"
    },
    "tags": []
   },
   "source": [
    "### Logistic Regression"
   ]
  },
  {
   "cell_type": "markdown",
   "metadata": {},
   "source": [
    "A logistic regression will attempt to build a model which fits the data along a sigmoid curve. This type of model is ideal for binary classification problems such as this."
   ]
  },
  {
   "cell_type": "code",
   "execution_count": 7,
   "metadata": {
    "execution": {
     "iopub.execute_input": "2022-10-07T14:52:03.974233Z",
     "iopub.status.busy": "2022-10-07T14:52:03.973805Z",
     "iopub.status.idle": "2022-10-07T14:52:04.026982Z",
     "shell.execute_reply": "2022-10-07T14:52:04.025620Z"
    },
    "papermill": {
     "duration": 0.067027,
     "end_time": "2022-10-07T14:52:04.029642",
     "exception": false,
     "start_time": "2022-10-07T14:52:03.962615",
     "status": "completed"
    },
    "tags": []
   },
   "outputs": [
    {
     "data": {
      "text/plain": [
       "LogisticRegression()"
      ]
     },
     "execution_count": 7,
     "metadata": {},
     "output_type": "execute_result"
    }
   ],
   "source": [
    "lr = LogisticRegression()\n",
    "lr.fit(X_train, y_train)"
   ]
  },
  {
   "cell_type": "code",
   "execution_count": 8,
   "metadata": {
    "execution": {
     "iopub.execute_input": "2022-10-07T14:52:04.051556Z",
     "iopub.status.busy": "2022-10-07T14:52:04.051135Z",
     "iopub.status.idle": "2022-10-07T14:52:04.357826Z",
     "shell.execute_reply": "2022-10-07T14:52:04.356696Z"
    },
    "papermill": {
     "duration": 0.320583,
     "end_time": "2022-10-07T14:52:04.360173",
     "exception": false,
     "start_time": "2022-10-07T14:52:04.039590",
     "status": "completed"
    },
    "tags": []
   },
   "outputs": [
    {
     "name": "stdout",
     "output_type": "stream",
     "text": [
      "              precision    recall  f1-score   support\n",
      "\n",
      "           0       0.82      0.86      0.84       549\n",
      "           1       0.76      0.70      0.73       342\n",
      "\n",
      "    accuracy                           0.80       891\n",
      "   macro avg       0.79      0.78      0.79       891\n",
      "weighted avg       0.80      0.80      0.80       891\n",
      "\n"
     ]
    },
    {
     "data": {
      "image/png": "[encoded data removed]",
      "text/plain": [
       "<Figure size 576x360 with 2 Axes>"
      ]
     },
     "metadata": {
      "needs_background": "light"
     },
     "output_type": "display_data"
    }
   ],
   "source": [
    "# testing model performance on the training set\n",
    "y_train_pred_lr = lr.predict(X_train)\n",
    "metrics_score(y_train, y_train_pred_lr)"
   ]
  },
  {
   "cell_type": "code",
   "execution_count": 9,
   "metadata": {
    "execution": {
     "iopub.execute_input": "2022-10-07T14:52:04.384582Z",
     "iopub.status.busy": "2022-10-07T14:52:04.383128Z",
     "iopub.status.idle": "2022-10-07T14:52:04.641791Z",
     "shell.execute_reply": "2022-10-07T14:52:04.640307Z"
    },
    "papermill": {
     "duration": 0.275983,
     "end_time": "2022-10-07T14:52:04.646127",
     "exception": false,
     "start_time": "2022-10-07T14:52:04.370144",
     "status": "completed"
    },
    "tags": []
   },
   "outputs": [
    {
     "name": "stdout",
     "output_type": "stream",
     "text": [
      "              precision    recall  f1-score   support\n",
      "\n",
      "           0       0.97      0.95      0.96       266\n",
      "           1       0.92      0.94      0.93       152\n",
      "\n",
      "    accuracy                           0.95       418\n",
      "   macro avg       0.94      0.95      0.95       418\n",
      "weighted avg       0.95      0.95      0.95       418\n",
      "\n"
     ]
    },
    {
     "data": {
      "image/png": "[encoded data removed]",
      "text/plain": [
       "<Figure size 576x360 with 2 Axes>"
      ]
     },
     "metadata": {
      "needs_background": "light"
     },
     "output_type": "display_data"
    }
   ],
   "source": [
    "# testing model performance on the testing set\n",
    "y_test_pred_lr = lr.predict(X_test)\n",
    "metrics_score(y_test, y_test_pred_lr)"
   ]
  },
  {
   "cell_type": "markdown",
   "metadata": {
    "papermill": {
     "duration": 0.010222,
     "end_time": "2022-10-07T14:52:04.668578",
     "exception": false,
     "start_time": "2022-10-07T14:52:04.658356",
     "status": "completed"
    },
    "tags": []
   },
   "source": [
    "A simple linear regression has resulted in a model that is 95% accurate on the testing data set. Performance may be improved by tuning the model's hyperparameters"
   ]
  },
  {
   "cell_type": "markdown",
   "metadata": {
    "papermill": {
     "duration": 0.009984,
     "end_time": "2022-10-07T14:52:04.688648",
     "exception": false,
     "start_time": "2022-10-07T14:52:04.678664",
     "status": "completed"
    },
    "tags": []
   },
   "source": [
    "### Logistic Regression Hypertuning"
   ]
  },
  {
   "cell_type": "code",
   "execution_count": 10,
   "metadata": {
    "execution": {
     "iopub.execute_input": "2022-10-07T14:52:04.711373Z",
     "iopub.status.busy": "2022-10-07T14:52:04.710786Z",
     "iopub.status.idle": "2022-10-07T14:52:08.782670Z",
     "shell.execute_reply": "2022-10-07T14:52:08.781306Z"
    },
    "papermill": {
     "duration": 4.086681,
     "end_time": "2022-10-07T14:52:08.785431",
     "exception": false,
     "start_time": "2022-10-07T14:52:04.698750",
     "status": "completed"
    },
    "tags": []
   },
   "outputs": [
    {
     "name": "stdout",
     "output_type": "stream",
     "text": [
      "Fitting 5 folds for each of 60 candidates, totalling 300 fits\n",
      "[CV] END ................C=1, penalty=none, solver=newton-cg; total time=   0.1s\n",
      "[CV] END ................C=1, penalty=none, solver=newton-cg; total time=   0.1s\n",
      "[CV] END ................C=1, penalty=none, solver=newton-cg; total time=   0.1s\n",
      "[CV] END ................C=1, penalty=none, solver=newton-cg; total time=   0.1s\n",
      "[CV] END ................C=1, penalty=none, solver=newton-cg; total time=   0.1s\n",
      "[CV] END .....................C=1, penalty=none, solver=lbfs; total time=   0.0s\n",
      "[CV] END .....................C=1, penalty=none, solver=lbfs; total time=   0.0s\n",
      "[CV] END .....................C=1, penalty=none, solver=lbfs; total time=   0.0s\n",
      "[CV] END .....................C=1, penalty=none, solver=lbfs; total time=   0.0s\n",
      "[CV] END .....................C=1, penalty=none, solver=lbfs; total time=   0.0s\n",
      "[CV] END ................C=1, penalty=none, solver=liblinear; total time=   0.0s\n",
      "[CV] END ................C=1, penalty=none, solver=liblinear; total time=   0.0s\n",
      "[CV] END ................C=1, penalty=none, solver=liblinear; total time=   0.0s\n",
      "[CV] END ................C=1, penalty=none, solver=liblinear; total time=   0.0s\n",
      "[CV] END ................C=1, penalty=none, solver=liblinear; total time=   0.0s\n",
      "[CV] END ......................C=1, penalty=none, solver=sag; total time=   0.0s\n",
      "[CV] END ......................C=1, penalty=none, solver=sag; total time=   0.0s\n",
      "[CV] END ......................C=1, penalty=none, solver=sag; total time=   0.0s\n",
      "[CV] END ......................C=1, penalty=none, solver=sag; total time=   0.0s\n",
      "[CV] END ......................C=1, penalty=none, solver=sag; total time=   0.0s\n",
      "[CV] END .....................C=1, penalty=none, solver=saga; total time=   0.0s\n",
      "[CV] END .....................C=1, penalty=none, solver=saga; total time=   0.0s\n",
      "[CV] END .....................C=1, penalty=none, solver=saga; total time=   0.0s\n",
      "[CV] END .....................C=1, penalty=none, solver=saga; total time=   0.0s\n",
      "[CV] END .....................C=1, penalty=none, solver=saga; total time=   0.0s\n",
      "[CV] END ..................C=1, penalty=l1, solver=newton-cg; total time=   0.0s\n",
      "[CV] END ..................C=1, penalty=l1, solver=newton-cg; total time=   0.0s\n",
      "[CV] END ..................C=1, penalty=l1, solver=newton-cg; total time=   0.0s\n",
      "[CV] END ..................C=1, penalty=l1, solver=newton-cg; total time=   0.0s\n",
      "[CV] END ..................C=1, penalty=l1, solver=newton-cg; total time=   0.0s\n",
      "[CV] END .......................C=1, penalty=l1, solver=lbfs; total time=   0.0s\n",
      "[CV] END .......................C=1, penalty=l1, solver=lbfs; total time=   0.0s\n",
      "[CV] END .......................C=1, penalty=l1, solver=lbfs; total time=   0.0s\n",
      "[CV] END .......................C=1, penalty=l1, solver=lbfs; total time=   0.0s\n",
      "[CV] END .......................C=1, penalty=l1, solver=lbfs; total time=   0.0s\n",
      "[CV] END ..................C=1, penalty=l1, solver=liblinear; total time=   0.0s\n",
      "[CV] END ..................C=1, penalty=l1, solver=liblinear; total time=   0.0s\n",
      "[CV] END ..................C=1, penalty=l1, solver=liblinear; total time=   0.0s\n",
      "[CV] END ..................C=1, penalty=l1, solver=liblinear; total time=   0.0s\n",
      "[CV] END ..................C=1, penalty=l1, solver=liblinear; total time=   0.0s\n",
      "[CV] END ........................C=1, penalty=l1, solver=sag; total time=   0.0s\n",
      "[CV] END ........................C=1, penalty=l1, solver=sag; total time=   0.0s\n",
      "[CV] END ........................C=1, penalty=l1, solver=sag; total time=   0.0s\n",
      "[CV] END ........................C=1, penalty=l1, solver=sag; total time=   0.0s\n",
      "[CV] END ........................C=1, penalty=l1, solver=sag; total time=   0.0s\n",
      "[CV] END .......................C=1, penalty=l1, solver=saga; total time=   0.0s\n",
      "[CV] END .......................C=1, penalty=l1, solver=saga; total time=   0.0s\n",
      "[CV] END .......................C=1, penalty=l1, solver=saga; total time=   0.0s\n",
      "[CV] END .......................C=1, penalty=l1, solver=saga; total time=   0.0s\n",
      "[CV] END .......................C=1, penalty=l1, solver=saga; total time=   0.0s\n",
      "[CV] END ..................C=1, penalty=l2, solver=newton-cg; total time=   0.0s\n",
      "[CV] END ..................C=1, penalty=l2, solver=newton-cg; total time=   0.0s\n",
      "[CV] END ..................C=1, penalty=l2, solver=newton-cg; total time=   0.0s\n",
      "[CV] END ..................C=1, penalty=l2, solver=newton-cg; total time=   0.0s\n",
      "[CV] END ..................C=1, penalty=l2, solver=newton-cg; total time=   0.0s\n",
      "[CV] END .......................C=1, penalty=l2, solver=lbfs; total time=   0.0s\n",
      "[CV] END .......................C=1, penalty=l2, solver=lbfs; total time=   0.0s\n",
      "[CV] END .......................C=1, penalty=l2, solver=lbfs; total time=   0.0s\n",
      "[CV] END .......................C=1, penalty=l2, solver=lbfs; total time=   0.0s\n",
      "[CV] END .......................C=1, penalty=l2, solver=lbfs; total time=   0.0s\n",
      "[CV] END ..................C=1, penalty=l2, solver=liblinear; total time=   0.0s\n",
      "[CV] END ..................C=1, penalty=l2, solver=liblinear; total time=   0.0s\n",
      "[CV] END ..................C=1, penalty=l2, solver=liblinear; total time=   0.0s\n",
      "[CV] END ..................C=1, penalty=l2, solver=liblinear; total time=   0.0s\n",
      "[CV] END ..................C=1, penalty=l2, solver=liblinear; total time=   0.0s\n",
      "[CV] END ........................C=1, penalty=l2, solver=sag; total time=   0.0s\n",
      "[CV] END ........................C=1, penalty=l2, solver=sag; total time=   0.0s\n",
      "[CV] END ........................C=1, penalty=l2, solver=sag; total time=   0.0s\n",
      "[CV] END ........................C=1, penalty=l2, solver=sag; total time=   0.0s\n",
      "[CV] END ........................C=1, penalty=l2, solver=sag; total time=   0.0s\n",
      "[CV] END .......................C=1, penalty=l2, solver=saga; total time=   0.0s\n",
      "[CV] END .......................C=1, penalty=l2, solver=saga; total time=   0.0s\n",
      "[CV] END .......................C=1, penalty=l2, solver=saga; total time=   0.0s\n",
      "[CV] END .......................C=1, penalty=l2, solver=saga; total time=   0.0s\n",
      "[CV] END .......................C=1, penalty=l2, solver=saga; total time=   0.0s\n",
      "[CV] END ..........C=1, penalty=elasticnet, solver=newton-cg; total time=   0.0s\n",
      "[CV] END ..........C=1, penalty=elasticnet, solver=newton-cg; total time=   0.0s\n",
      "[CV] END ..........C=1, penalty=elasticnet, solver=newton-cg; total time=   0.0s\n",
      "[CV] END ..........C=1, penalty=elasticnet, solver=newton-cg; total time=   0.0s\n",
      "[CV] END ..........C=1, penalty=elasticnet, solver=newton-cg; total time=   0.0s\n",
      "[CV] END ...............C=1, penalty=elasticnet, solver=lbfs; total time=   0.0s\n",
      "[CV] END ...............C=1, penalty=elasticnet, solver=lbfs; total time=   0.0s\n",
      "[CV] END ...............C=1, penalty=elasticnet, solver=lbfs; total time=   0.0s\n",
      "[CV] END ...............C=1, penalty=elasticnet, solver=lbfs; total time=   0.0s\n",
      "[CV] END ...............C=1, penalty=elasticnet, solver=lbfs; total time=   0.0s\n",
      "[CV] END ..........C=1, penalty=elasticnet, solver=liblinear; total time=   0.0s\n",
      "[CV] END ..........C=1, penalty=elasticnet, solver=liblinear; total time=   0.0s\n",
      "[CV] END ..........C=1, penalty=elasticnet, solver=liblinear; total time=   0.0s\n",
      "[CV] END ..........C=1, penalty=elasticnet, solver=liblinear; total time=   0.0s\n",
      "[CV] END ..........C=1, penalty=elasticnet, solver=liblinear; total time=   0.0s\n",
      "[CV] END ................C=1, penalty=elasticnet, solver=sag; total time=   0.0s\n",
      "[CV] END ................C=1, penalty=elasticnet, solver=sag; total time=   0.0s\n",
      "[CV] END ................C=1, penalty=elasticnet, solver=sag; total time=   0.0s\n",
      "[CV] END ................C=1, penalty=elasticnet, solver=sag; total time=   0.0s\n",
      "[CV] END ................C=1, penalty=elasticnet, solver=sag; total time=   0.0s\n",
      "[CV] END ...............C=1, penalty=elasticnet, solver=saga; total time=   0.0s\n",
      "[CV] END ...............C=1, penalty=elasticnet, solver=saga; total time=   0.0s\n",
      "[CV] END ...............C=1, penalty=elasticnet, solver=saga; total time=   0.0s\n",
      "[CV] END ...............C=1, penalty=elasticnet, solver=saga; total time=   0.0s\n",
      "[CV] END ...............C=1, penalty=elasticnet, solver=saga; total time=   0.0s\n",
      "[CV] END ..............C=0.1, penalty=none, solver=newton-cg; total time=   0.1s\n",
      "[CV] END ..............C=0.1, penalty=none, solver=newton-cg; total time=   0.1s\n",
      "[CV] END ..............C=0.1, penalty=none, solver=newton-cg; total time=   0.1s\n",
      "[CV] END ..............C=0.1, penalty=none, solver=newton-cg; total time=   0.1s\n",
      "[CV] END ..............C=0.1, penalty=none, solver=newton-cg; total time=   0.1s\n",
      "[CV] END ...................C=0.1, penalty=none, solver=lbfs; total time=   0.0s\n",
      "[CV] END ...................C=0.1, penalty=none, solver=lbfs; total time=   0.0s\n",
      "[CV] END ...................C=0.1, penalty=none, solver=lbfs; total time=   0.0s\n",
      "[CV] END ...................C=0.1, penalty=none, solver=lbfs; total time=   0.0s\n",
      "[CV] END ...................C=0.1, penalty=none, solver=lbfs; total time=   0.0s\n",
      "[CV] END ..............C=0.1, penalty=none, solver=liblinear; total time=   0.0s\n",
      "[CV] END ..............C=0.1, penalty=none, solver=liblinear; total time=   0.0s\n",
      "[CV] END ..............C=0.1, penalty=none, solver=liblinear; total time=   0.0s\n",
      "[CV] END ..............C=0.1, penalty=none, solver=liblinear; total time=   0.0s\n",
      "[CV] END ..............C=0.1, penalty=none, solver=liblinear; total time=   0.0s\n",
      "[CV] END ....................C=0.1, penalty=none, solver=sag; total time=   0.0s\n",
      "[CV] END ....................C=0.1, penalty=none, solver=sag; total time=   0.0s\n",
      "[CV] END ....................C=0.1, penalty=none, solver=sag; total time=   0.0s\n",
      "[CV] END ....................C=0.1, penalty=none, solver=sag; total time=   0.0s\n",
      "[CV] END ....................C=0.1, penalty=none, solver=sag; total time=   0.0s\n",
      "[CV] END ...................C=0.1, penalty=none, solver=saga; total time=   0.0s\n",
      "[CV] END ...................C=0.1, penalty=none, solver=saga; total time=   0.0s\n",
      "[CV] END ...................C=0.1, penalty=none, solver=saga; total time=   0.0s\n",
      "[CV] END ...................C=0.1, penalty=none, solver=saga; total time=   0.0s\n",
      "[CV] END ...................C=0.1, penalty=none, solver=saga; total time=   0.0s\n",
      "[CV] END ................C=0.1, penalty=l1, solver=newton-cg; total time=   0.0s\n",
      "[CV] END ................C=0.1, penalty=l1, solver=newton-cg; total time=   0.0s\n",
      "[CV] END ................C=0.1, penalty=l1, solver=newton-cg; total time=   0.0s\n",
      "[CV] END ................C=0.1, penalty=l1, solver=newton-cg; total time=   0.0s\n",
      "[CV] END ................C=0.1, penalty=l1, solver=newton-cg; total time=   0.0s\n",
      "[CV] END .....................C=0.1, penalty=l1, solver=lbfs; total time=   0.0s\n",
      "[CV] END .....................C=0.1, penalty=l1, solver=lbfs; total time=   0.0s\n",
      "[CV] END .....................C=0.1, penalty=l1, solver=lbfs; total time=   0.0s\n",
      "[CV] END .....................C=0.1, penalty=l1, solver=lbfs; total time=   0.0s\n",
      "[CV] END .....................C=0.1, penalty=l1, solver=lbfs; total time=   0.0s\n",
      "[CV] END ................C=0.1, penalty=l1, solver=liblinear; total time=   0.0s\n",
      "[CV] END ................C=0.1, penalty=l1, solver=liblinear; total time=   0.0s\n",
      "[CV] END ................C=0.1, penalty=l1, solver=liblinear; total time=   0.0s\n",
      "[CV] END ................C=0.1, penalty=l1, solver=liblinear; total time=   0.0s\n",
      "[CV] END ................C=0.1, penalty=l1, solver=liblinear; total time=   0.0s\n",
      "[CV] END ......................C=0.1, penalty=l1, solver=sag; total time=   0.0s\n",
      "[CV] END ......................C=0.1, penalty=l1, solver=sag; total time=   0.0s\n",
      "[CV] END ......................C=0.1, penalty=l1, solver=sag; total time=   0.0s\n",
      "[CV] END ......................C=0.1, penalty=l1, solver=sag; total time=   0.0s\n",
      "[CV] END ......................C=0.1, penalty=l1, solver=sag; total time=   0.0s\n",
      "[CV] END .....................C=0.1, penalty=l1, solver=saga; total time=   0.0s\n",
      "[CV] END .....................C=0.1, penalty=l1, solver=saga; total time=   0.0s\n",
      "[CV] END .....................C=0.1, penalty=l1, solver=saga; total time=   0.0s\n",
      "[CV] END .....................C=0.1, penalty=l1, solver=saga; total time=   0.0s\n",
      "[CV] END .....................C=0.1, penalty=l1, solver=saga; total time=   0.0s\n",
      "[CV] END ................C=0.1, penalty=l2, solver=newton-cg; total time=   0.0s\n",
      "[CV] END ................C=0.1, penalty=l2, solver=newton-cg; total time=   0.0s\n",
      "[CV] END ................C=0.1, penalty=l2, solver=newton-cg; total time=   0.0s\n",
      "[CV] END ................C=0.1, penalty=l2, solver=newton-cg; total time=   0.0s\n",
      "[CV] END ................C=0.1, penalty=l2, solver=newton-cg; total time=   0.0s\n",
      "[CV] END .....................C=0.1, penalty=l2, solver=lbfs; total time=   0.0s\n",
      "[CV] END .....................C=0.1, penalty=l2, solver=lbfs; total time=   0.0s\n",
      "[CV] END .....................C=0.1, penalty=l2, solver=lbfs; total time=   0.0s\n",
      "[CV] END .....................C=0.1, penalty=l2, solver=lbfs; total time=   0.0s\n",
      "[CV] END .....................C=0.1, penalty=l2, solver=lbfs; total time=   0.0s\n",
      "[CV] END ................C=0.1, penalty=l2, solver=liblinear; total time=   0.0s\n",
      "[CV] END ................C=0.1, penalty=l2, solver=liblinear; total time=   0.0s\n",
      "[CV] END ................C=0.1, penalty=l2, solver=liblinear; total time=   0.0s\n",
      "[CV] END ................C=0.1, penalty=l2, solver=liblinear; total time=   0.0s\n",
      "[CV] END ................C=0.1, penalty=l2, solver=liblinear; total time=   0.0s\n",
      "[CV] END ......................C=0.1, penalty=l2, solver=sag; total time=   0.0s\n",
      "[CV] END ......................C=0.1, penalty=l2, solver=sag; total time=   0.0s\n",
      "[CV] END ......................C=0.1, penalty=l2, solver=sag; total time=   0.0s\n",
      "[CV] END ......................C=0.1, penalty=l2, solver=sag; total time=   0.0s\n",
      "[CV] END ......................C=0.1, penalty=l2, solver=sag; total time=   0.0s\n",
      "[CV] END .....................C=0.1, penalty=l2, solver=saga; total time=   0.0s\n",
      "[CV] END .....................C=0.1, penalty=l2, solver=saga; total time=   0.0s\n",
      "[CV] END .....................C=0.1, penalty=l2, solver=saga; total time=   0.0s\n",
      "[CV] END .....................C=0.1, penalty=l2, solver=saga; total time=   0.0s\n",
      "[CV] END .....................C=0.1, penalty=l2, solver=saga; total time=   0.0s\n",
      "[CV] END ........C=0.1, penalty=elasticnet, solver=newton-cg; total time=   0.0s\n",
      "[CV] END ........C=0.1, penalty=elasticnet, solver=newton-cg; total time=   0.0s\n",
      "[CV] END ........C=0.1, penalty=elasticnet, solver=newton-cg; total time=   0.0s\n",
      "[CV] END ........C=0.1, penalty=elasticnet, solver=newton-cg; total time=   0.0s\n",
      "[CV] END ........C=0.1, penalty=elasticnet, solver=newton-cg; total time=   0.0s\n",
      "[CV] END .............C=0.1, penalty=elasticnet, solver=lbfs; total time=   0.0s\n",
      "[CV] END .............C=0.1, penalty=elasticnet, solver=lbfs; total time=   0.0s\n",
      "[CV] END .............C=0.1, penalty=elasticnet, solver=lbfs; total time=   0.0s\n",
      "[CV] END .............C=0.1, penalty=elasticnet, solver=lbfs; total time=   0.0s\n",
      "[CV] END .............C=0.1, penalty=elasticnet, solver=lbfs; total time=   0.0s\n",
      "[CV] END ........C=0.1, penalty=elasticnet, solver=liblinear; total time=   0.0s\n",
      "[CV] END ........C=0.1, penalty=elasticnet, solver=liblinear; total time=   0.0s\n",
      "[CV] END ........C=0.1, penalty=elasticnet, solver=liblinear; total time=   0.0s\n",
      "[CV] END ........C=0.1, penalty=elasticnet, solver=liblinear; total time=   0.0s\n",
      "[CV] END ........C=0.1, penalty=elasticnet, solver=liblinear; total time=   0.0s\n",
      "[CV] END ..............C=0.1, penalty=elasticnet, solver=sag; total time=   0.0s\n",
      "[CV] END ..............C=0.1, penalty=elasticnet, solver=sag; total time=   0.0s\n",
      "[CV] END ..............C=0.1, penalty=elasticnet, solver=sag; total time=   0.0s\n",
      "[CV] END ..............C=0.1, penalty=elasticnet, solver=sag; total time=   0.0s\n",
      "[CV] END ..............C=0.1, penalty=elasticnet, solver=sag; total time=   0.0s\n",
      "[CV] END .............C=0.1, penalty=elasticnet, solver=saga; total time=   0.0s\n",
      "[CV] END .............C=0.1, penalty=elasticnet, solver=saga; total time=   0.0s\n",
      "[CV] END .............C=0.1, penalty=elasticnet, solver=saga; total time=   0.0s\n",
      "[CV] END .............C=0.1, penalty=elasticnet, solver=saga; total time=   0.0s\n",
      "[CV] END .............C=0.1, penalty=elasticnet, solver=saga; total time=   0.0s\n",
      "[CV] END ............C=0.001, penalty=none, solver=newton-cg; total time=   0.1s\n",
      "[CV] END ............C=0.001, penalty=none, solver=newton-cg; total time=   0.1s\n",
      "[CV] END ............C=0.001, penalty=none, solver=newton-cg; total time=   0.1s\n",
      "[CV] END ............C=0.001, penalty=none, solver=newton-cg; total time=   0.1s\n",
      "[CV] END ............C=0.001, penalty=none, solver=newton-cg; total time=   0.1s\n",
      "[CV] END .................C=0.001, penalty=none, solver=lbfs; total time=   0.0s\n",
      "[CV] END .................C=0.001, penalty=none, solver=lbfs; total time=   0.0s\n",
      "[CV] END .................C=0.001, penalty=none, solver=lbfs; total time=   0.0s\n",
      "[CV] END .................C=0.001, penalty=none, solver=lbfs; total time=   0.0s\n",
      "[CV] END .................C=0.001, penalty=none, solver=lbfs; total time=   0.0s\n",
      "[CV] END ............C=0.001, penalty=none, solver=liblinear; total time=   0.0s\n",
      "[CV] END ............C=0.001, penalty=none, solver=liblinear; total time=   0.0s\n",
      "[CV] END ............C=0.001, penalty=none, solver=liblinear; total time=   0.0s\n",
      "[CV] END ............C=0.001, penalty=none, solver=liblinear; total time=   0.0s\n",
      "[CV] END ............C=0.001, penalty=none, solver=liblinear; total time=   0.0s\n",
      "[CV] END ..................C=0.001, penalty=none, solver=sag; total time=   0.0s\n",
      "[CV] END ..................C=0.001, penalty=none, solver=sag; total time=   0.0s\n",
      "[CV] END ..................C=0.001, penalty=none, solver=sag; total time=   0.0s\n",
      "[CV] END ..................C=0.001, penalty=none, solver=sag; total time=   0.0s\n",
      "[CV] END ..................C=0.001, penalty=none, solver=sag; total time=   0.0s\n",
      "[CV] END .................C=0.001, penalty=none, solver=saga; total time=   0.0s\n",
      "[CV] END .................C=0.001, penalty=none, solver=saga; total time=   0.0s\n",
      "[CV] END .................C=0.001, penalty=none, solver=saga; total time=   0.0s\n",
      "[CV] END .................C=0.001, penalty=none, solver=saga; total time=   0.0s\n",
      "[CV] END .................C=0.001, penalty=none, solver=saga; total time=   0.0s\n",
      "[CV] END ..............C=0.001, penalty=l1, solver=newton-cg; total time=   0.0s\n",
      "[CV] END ..............C=0.001, penalty=l1, solver=newton-cg; total time=   0.0s\n",
      "[CV] END ..............C=0.001, penalty=l1, solver=newton-cg; total time=   0.0s\n",
      "[CV] END ..............C=0.001, penalty=l1, solver=newton-cg; total time=   0.0s\n",
      "[CV] END ..............C=0.001, penalty=l1, solver=newton-cg; total time=   0.0s\n",
      "[CV] END ...................C=0.001, penalty=l1, solver=lbfs; total time=   0.0s\n",
      "[CV] END ...................C=0.001, penalty=l1, solver=lbfs; total time=   0.0s\n",
      "[CV] END ...................C=0.001, penalty=l1, solver=lbfs; total time=   0.0s\n",
      "[CV] END ...................C=0.001, penalty=l1, solver=lbfs; total time=   0.0s\n",
      "[CV] END ...................C=0.001, penalty=l1, solver=lbfs; total time=   0.0s\n",
      "[CV] END ..............C=0.001, penalty=l1, solver=liblinear; total time=   0.0s\n",
      "[CV] END ..............C=0.001, penalty=l1, solver=liblinear; total time=   0.0s\n",
      "[CV] END ..............C=0.001, penalty=l1, solver=liblinear; total time=   0.0s\n",
      "[CV] END ..............C=0.001, penalty=l1, solver=liblinear; total time=   0.0s\n",
      "[CV] END ..............C=0.001, penalty=l1, solver=liblinear; total time=   0.0s\n",
      "[CV] END ....................C=0.001, penalty=l1, solver=sag; total time=   0.0s\n",
      "[CV] END ....................C=0.001, penalty=l1, solver=sag; total time=   0.0s\n",
      "[CV] END ....................C=0.001, penalty=l1, solver=sag; total time=   0.0s\n",
      "[CV] END ....................C=0.001, penalty=l1, solver=sag; total time=   0.0s\n",
      "[CV] END ....................C=0.001, penalty=l1, solver=sag; total time=   0.0s\n",
      "[CV] END ...................C=0.001, penalty=l1, solver=saga; total time=   0.0s\n",
      "[CV] END ...................C=0.001, penalty=l1, solver=saga; total time=   0.0s\n",
      "[CV] END ...................C=0.001, penalty=l1, solver=saga; total time=   0.0s\n",
      "[CV] END ...................C=0.001, penalty=l1, solver=saga; total time=   0.0s\n",
      "[CV] END ...................C=0.001, penalty=l1, solver=saga; total time=   0.0s\n",
      "[CV] END ..............C=0.001, penalty=l2, solver=newton-cg; total time=   0.0s\n",
      "[CV] END ..............C=0.001, penalty=l2, solver=newton-cg; total time=   0.0s\n",
      "[CV] END ..............C=0.001, penalty=l2, solver=newton-cg; total time=   0.0s\n",
      "[CV] END ..............C=0.001, penalty=l2, solver=newton-cg; total time=   0.0s\n",
      "[CV] END ..............C=0.001, penalty=l2, solver=newton-cg; total time=   0.0s\n",
      "[CV] END ...................C=0.001, penalty=l2, solver=lbfs; total time=   0.0s\n",
      "[CV] END ...................C=0.001, penalty=l2, solver=lbfs; total time=   0.0s\n",
      "[CV] END ...................C=0.001, penalty=l2, solver=lbfs; total time=   0.0s\n",
      "[CV] END ...................C=0.001, penalty=l2, solver=lbfs; total time=   0.0s\n",
      "[CV] END ...................C=0.001, penalty=l2, solver=lbfs; total time=   0.0s\n",
      "[CV] END ..............C=0.001, penalty=l2, solver=liblinear; total time=   0.0s\n",
      "[CV] END ..............C=0.001, penalty=l2, solver=liblinear; total time=   0.0s\n",
      "[CV] END ..............C=0.001, penalty=l2, solver=liblinear; total time=   0.0s\n",
      "[CV] END ..............C=0.001, penalty=l2, solver=liblinear; total time=   0.0s\n",
      "[CV] END ..............C=0.001, penalty=l2, solver=liblinear; total time=   0.0s\n",
      "[CV] END ....................C=0.001, penalty=l2, solver=sag; total time=   0.0s\n",
      "[CV] END ....................C=0.001, penalty=l2, solver=sag; total time=   0.0s\n",
      "[CV] END ....................C=0.001, penalty=l2, solver=sag; total time=   0.0s\n",
      "[CV] END ....................C=0.001, penalty=l2, solver=sag; total time=   0.0s\n",
      "[CV] END ....................C=0.001, penalty=l2, solver=sag; total time=   0.0s\n",
      "[CV] END ...................C=0.001, penalty=l2, solver=saga; total time=   0.0s\n",
      "[CV] END ...................C=0.001, penalty=l2, solver=saga; total time=   0.0s\n",
      "[CV] END ...................C=0.001, penalty=l2, solver=saga; total time=   0.0s\n",
      "[CV] END ...................C=0.001, penalty=l2, solver=saga; total time=   0.0s\n",
      "[CV] END ...................C=0.001, penalty=l2, solver=saga; total time=   0.0s\n",
      "[CV] END ......C=0.001, penalty=elasticnet, solver=newton-cg; total time=   0.0s\n",
      "[CV] END ......C=0.001, penalty=elasticnet, solver=newton-cg; total time=   0.0s\n",
      "[CV] END ......C=0.001, penalty=elasticnet, solver=newton-cg; total time=   0.0s\n",
      "[CV] END ......C=0.001, penalty=elasticnet, solver=newton-cg; total time=   0.0s\n",
      "[CV] END ......C=0.001, penalty=elasticnet, solver=newton-cg; total time=   0.0s\n",
      "[CV] END ...........C=0.001, penalty=elasticnet, solver=lbfs; total time=   0.0s\n",
      "[CV] END ...........C=0.001, penalty=elasticnet, solver=lbfs; total time=   0.0s\n",
      "[CV] END ...........C=0.001, penalty=elasticnet, solver=lbfs; total time=   0.0s\n",
      "[CV] END ...........C=0.001, penalty=elasticnet, solver=lbfs; total time=   0.0s\n",
      "[CV] END ...........C=0.001, penalty=elasticnet, solver=lbfs; total time=   0.0s\n",
      "[CV] END ......C=0.001, penalty=elasticnet, solver=liblinear; total time=   0.0s\n",
      "[CV] END ......C=0.001, penalty=elasticnet, solver=liblinear; total time=   0.0s\n",
      "[CV] END ......C=0.001, penalty=elasticnet, solver=liblinear; total time=   0.0s\n",
      "[CV] END ......C=0.001, penalty=elasticnet, solver=liblinear; total time=   0.0s\n",
      "[CV] END ......C=0.001, penalty=elasticnet, solver=liblinear; total time=   0.0s\n",
      "[CV] END ............C=0.001, penalty=elasticnet, solver=sag; total time=   0.0s\n",
      "[CV] END ............C=0.001, penalty=elasticnet, solver=sag; total time=   0.0s\n",
      "[CV] END ............C=0.001, penalty=elasticnet, solver=sag; total time=   0.0s\n",
      "[CV] END ............C=0.001, penalty=elasticnet, solver=sag; total time=   0.0s\n",
      "[CV] END ............C=0.001, penalty=elasticnet, solver=sag; total time=   0.0s\n",
      "[CV] END ...........C=0.001, penalty=elasticnet, solver=saga; total time=   0.0s\n",
      "[CV] END ...........C=0.001, penalty=elasticnet, solver=saga; total time=   0.0s\n",
      "[CV] END ...........C=0.001, penalty=elasticnet, solver=saga; total time=   0.0s\n",
      "[CV] END ...........C=0.001, penalty=elasticnet, solver=saga; total time=   0.0s\n",
      "[CV] END ...........C=0.001, penalty=elasticnet, solver=saga; total time=   0.0s\n"
     ]
    },
    {
     "data": {
      "text/plain": [
       "LogisticRegression(C=1, penalty='none', solver='newton-cg')"
      ]
     },
     "execution_count": 10,
     "metadata": {},
     "output_type": "execute_result"
    }
   ],
   "source": [
    "lr_tuned = LogisticRegression()\n",
    "\n",
    "parameters = {'penalty':['none', 'l1', 'l2', 'elasticnet'],\n",
    "             'solver':['newton-cg', 'lbfs', 'liblinear', 'sag', 'saga'],\n",
    "             'C':[1, 0.1, 0.001]}\n",
    "\n",
    "scorer = metrics.make_scorer(accuracy_score, pos_label=1)\n",
    "\n",
    "grid_obj = GridSearchCV(lr_tuned, parameters, scoring=scorer, cv=5, verbose=2)\n",
    "grid_obj.fit(X_train, y_train)\n",
    "lr_tuned = grid_obj.best_estimator_\n",
    "lr_tuned"
   ]
  },
  {
   "cell_type": "code",
   "execution_count": 11,
   "metadata": {
    "execution": {
     "iopub.execute_input": "2022-10-07T14:52:08.812470Z",
     "iopub.status.busy": "2022-10-07T14:52:08.811966Z",
     "iopub.status.idle": "2022-10-07T14:52:09.086944Z",
     "shell.execute_reply": "2022-10-07T14:52:09.085726Z"
    },
    "papermill": {
     "duration": 0.291738,
     "end_time": "2022-10-07T14:52:09.089522",
     "exception": false,
     "start_time": "2022-10-07T14:52:08.797784",
     "status": "completed"
    },
    "tags": []
   },
   "outputs": [
    {
     "name": "stdout",
     "output_type": "stream",
     "text": [
      "              precision    recall  f1-score   support\n",
      "\n",
      "           0       0.82      0.86      0.84       549\n",
      "           1       0.76      0.70      0.73       342\n",
      "\n",
      "    accuracy                           0.80       891\n",
      "   macro avg       0.79      0.78      0.79       891\n",
      "weighted avg       0.80      0.80      0.80       891\n",
      "\n"
     ]
    },
    {
     "data": {
      "image/png": "[encoded data removed]",
      "text/plain": [
       "<Figure size 576x360 with 2 Axes>"
      ]
     },
     "metadata": {
      "needs_background": "light"
     },
     "output_type": "display_data"
    }
   ],
   "source": [
    "# testing model performance on the training set\n",
    "y_train_pred_lr_tuned = lr_tuned.predict(X_train)\n",
    "metrics_score(y_train, y_train_pred_lr_tuned)"
   ]
  },
  {
   "cell_type": "code",
   "execution_count": 12,
   "metadata": {
    "execution": {
     "iopub.execute_input": "2022-10-07T14:52:09.116145Z",
     "iopub.status.busy": "2022-10-07T14:52:09.115587Z",
     "iopub.status.idle": "2022-10-07T14:52:09.374527Z",
     "shell.execute_reply": "2022-10-07T14:52:09.373185Z"
    },
    "papermill": {
     "duration": 0.27519,
     "end_time": "2022-10-07T14:52:09.376887",
     "exception": false,
     "start_time": "2022-10-07T14:52:09.101697",
     "status": "completed"
    },
    "tags": []
   },
   "outputs": [
    {
     "name": "stdout",
     "output_type": "stream",
     "text": [
      "              precision    recall  f1-score   support\n",
      "\n",
      "           0       0.96      0.95      0.95       266\n",
      "           1       0.92      0.93      0.92       152\n",
      "\n",
      "    accuracy                           0.94       418\n",
      "   macro avg       0.94      0.94      0.94       418\n",
      "weighted avg       0.94      0.94      0.94       418\n",
      "\n"
     ]
    },
    {
     "data": {
      "image/png": "[encoded data removed]",
      "text/plain": [
       "<Figure size 576x360 with 2 Axes>"
      ]
     },
     "metadata": {
      "needs_background": "light"
     },
     "output_type": "display_data"
    }
   ],
   "source": [
    "# testing model performance on the testing set\n",
    "y_test_pred_lr_tuned = lr_tuned.predict(X_test)\n",
    "metrics_score(y_test, y_test_pred_lr_tuned)"
   ]
  },
  {
   "cell_type": "markdown",
   "metadata": {
    "papermill": {
     "duration": 0.0123,
     "end_time": "2022-10-07T14:52:09.401803",
     "exception": false,
     "start_time": "2022-10-07T14:52:09.389503",
     "status": "completed"
    },
    "tags": []
   },
   "source": [
    "Hypertuning has not resulted in improved performance. In fact, the hypertuned model performs slightly worse on the testing set."
   ]
  },
  {
   "cell_type": "markdown",
   "metadata": {
    "papermill": {
     "duration": 0.01253,
     "end_time": "2022-10-07T14:52:09.426931",
     "exception": false,
     "start_time": "2022-10-07T14:52:09.414401",
     "status": "completed"
    },
    "tags": []
   },
   "source": [
    "### Decision Trees"
   ]
  },
  {
   "cell_type": "markdown",
   "metadata": {},
   "source": [
    "Decision trees attempt to divide a set of data in such a way as to maximize information gain. In other words, decision trees will try to separate a data set into groups based on the features it deems most important."
   ]
  },
  {
   "cell_type": "code",
   "execution_count": 13,
   "metadata": {
    "execution": {
     "iopub.execute_input": "2022-10-07T14:52:09.454711Z",
     "iopub.status.busy": "2022-10-07T14:52:09.453982Z",
     "iopub.status.idle": "2022-10-07T14:52:09.467005Z",
     "shell.execute_reply": "2022-10-07T14:52:09.465915Z"
    },
    "papermill": {
     "duration": 0.029749,
     "end_time": "2022-10-07T14:52:09.469221",
     "exception": false,
     "start_time": "2022-10-07T14:52:09.439472",
     "status": "completed"
    },
    "tags": []
   },
   "outputs": [
    {
     "data": {
      "text/plain": [
       "DecisionTreeClassifier(class_weight={0: 0.62, 1: 0.38})"
      ]
     },
     "execution_count": 13,
     "metadata": {},
     "output_type": "execute_result"
    }
   ],
   "source": [
    "# training a decision tree model\n",
    "dt = DecisionTreeClassifier(class_weight = {0:0.62, 1:0.38})\n",
    "dt.fit(X_train, y_train)"
   ]
  },
  {
   "cell_type": "code",
   "execution_count": 14,
   "metadata": {
    "execution": {
     "iopub.execute_input": "2022-10-07T14:52:09.497013Z",
     "iopub.status.busy": "2022-10-07T14:52:09.496530Z",
     "iopub.status.idle": "2022-10-07T14:52:09.754248Z",
     "shell.execute_reply": "2022-10-07T14:52:09.753018Z"
    },
    "papermill": {
     "duration": 0.274991,
     "end_time": "2022-10-07T14:52:09.756884",
     "exception": false,
     "start_time": "2022-10-07T14:52:09.481893",
     "status": "completed"
    },
    "tags": []
   },
   "outputs": [
    {
     "name": "stdout",
     "output_type": "stream",
     "text": [
      "              precision    recall  f1-score   support\n",
      "\n",
      "           0       0.98      1.00      0.99       549\n",
      "           1       0.99      0.96      0.98       342\n",
      "\n",
      "    accuracy                           0.98       891\n",
      "   macro avg       0.98      0.98      0.98       891\n",
      "weighted avg       0.98      0.98      0.98       891\n",
      "\n"
     ]
    },
    {
     "data": {
      "image/png": "[encoded data removed]",
      "text/plain": [
       "<Figure size 576x360 with 2 Axes>"
      ]
     },
     "metadata": {
      "needs_background": "light"
     },
     "output_type": "display_data"
    }
   ],
   "source": [
    "y_train_pred_dt = dt.predict(X_train)\n",
    "metrics_score(y_train, y_train_pred_dt)"
   ]
  },
  {
   "cell_type": "code",
   "execution_count": 15,
   "metadata": {
    "execution": {
     "iopub.execute_input": "2022-10-07T14:52:09.785992Z",
     "iopub.status.busy": "2022-10-07T14:52:09.785284Z",
     "iopub.status.idle": "2022-10-07T14:52:10.010139Z",
     "shell.execute_reply": "2022-10-07T14:52:10.008859Z"
    },
    "papermill": {
     "duration": 0.242627,
     "end_time": "2022-10-07T14:52:10.012751",
     "exception": false,
     "start_time": "2022-10-07T14:52:09.770124",
     "status": "completed"
    },
    "tags": []
   },
   "outputs": [
    {
     "name": "stdout",
     "output_type": "stream",
     "text": [
      "              precision    recall  f1-score   support\n",
      "\n",
      "           0       0.83      0.83      0.83       266\n",
      "           1       0.70      0.70      0.70       152\n",
      "\n",
      "    accuracy                           0.78       418\n",
      "   macro avg       0.76      0.77      0.77       418\n",
      "weighted avg       0.78      0.78      0.78       418\n",
      "\n"
     ]
    },
    {
     "data": {
      "image/png": "[encoded data removed]",
      "text/plain": [
       "<Figure size 576x360 with 2 Axes>"
      ]
     },
     "metadata": {
      "needs_background": "light"
     },
     "output_type": "display_data"
    }
   ],
   "source": [
    "y_test_pred_dt = dt.predict(X_test)\n",
    "metrics_score(y_test, y_test_pred_dt)"
   ]
  },
  {
   "cell_type": "markdown",
   "metadata": {
    "papermill": {
     "duration": 0.013035,
     "end_time": "2022-10-07T14:52:10.039749",
     "exception": false,
     "start_time": "2022-10-07T14:52:10.026714",
     "status": "completed"
    },
    "tags": []
   },
   "source": [
    "The decision tree model performs substantially worse than a logistic regression. Performance may be improved with hypertuning"
   ]
  },
  {
   "cell_type": "markdown",
   "metadata": {
    "papermill": {
     "duration": 0.012968,
     "end_time": "2022-10-07T14:52:10.066334",
     "exception": false,
     "start_time": "2022-10-07T14:52:10.053366",
     "status": "completed"
    },
    "tags": []
   },
   "source": [
    "### Decision Tree Hypertuning"
   ]
  },
  {
   "cell_type": "code",
   "execution_count": 16,
   "metadata": {
    "execution": {
     "iopub.execute_input": "2022-10-07T14:52:10.095689Z",
     "iopub.status.busy": "2022-10-07T14:52:10.095182Z",
     "iopub.status.idle": "2022-10-07T14:52:13.977731Z",
     "shell.execute_reply": "2022-10-07T14:52:13.976465Z"
    },
    "papermill": {
     "duration": 3.900876,
     "end_time": "2022-10-07T14:52:13.980611",
     "exception": false,
     "start_time": "2022-10-07T14:52:10.079735",
     "status": "completed"
    },
    "tags": []
   },
   "outputs": [],
   "source": [
    "# hyperparamter tuning\n",
    "dt_tuned = DecisionTreeClassifier(class_weight={0:0.62, 1:0.38})\n",
    "\n",
    "parameters = {'max_depth': np.arange(2, 10),\n",
    "             'criterion': ['gini', 'entropy'],\n",
    "             'min_samples_leaf': [5, 10, 15, 20]}\n",
    "\n",
    "# scorer to be used to compare performance\n",
    "scorer = metrics.make_scorer(accuracy_score, pos_label=1)\n",
    "\n",
    "# grid search\n",
    "grid_obj = GridSearchCV(dt_tuned, parameters, scoring=scorer, cv=10)\n",
    "\n",
    "# fitting to training data\n",
    "grid_obj.fit(X_train, y_train)\n",
    "\n",
    "# saving the best parameters\n",
    "dt_tuned = grid_obj.best_estimator_"
   ]
  },
  {
   "cell_type": "code",
   "execution_count": 17,
   "metadata": {
    "execution": {
     "iopub.execute_input": "2022-10-07T14:52:14.011055Z",
     "iopub.status.busy": "2022-10-07T14:52:14.010646Z",
     "iopub.status.idle": "2022-10-07T14:52:14.205118Z",
     "shell.execute_reply": "2022-10-07T14:52:14.203945Z"
    },
    "papermill": {
     "duration": 0.213098,
     "end_time": "2022-10-07T14:52:14.207277",
     "exception": false,
     "start_time": "2022-10-07T14:52:13.994179",
     "status": "completed"
    },
    "tags": []
   },
   "outputs": [
    {
     "name": "stdout",
     "output_type": "stream",
     "text": [
      "              precision    recall  f1-score   support\n",
      "\n",
      "           0       0.76      0.97      0.85       549\n",
      "           1       0.91      0.52      0.66       342\n",
      "\n",
      "    accuracy                           0.80       891\n",
      "   macro avg       0.84      0.74      0.76       891\n",
      "weighted avg       0.82      0.80      0.78       891\n",
      "\n"
     ]
    },
    {
     "data": {
      "image/png": "[encoded data removed]",
      "text/plain": [
       "<Figure size 576x360 with 2 Axes>"
      ]
     },
     "metadata": {
      "needs_background": "light"
     },
     "output_type": "display_data"
    }
   ],
   "source": [
    "y_train_pred_dt_tuned = dt_tuned.predict(X_train)\n",
    "metrics_score(y_train, y_train_pred_dt_tuned)"
   ]
  },
  {
   "cell_type": "code",
   "execution_count": 18,
   "metadata": {
    "execution": {
     "iopub.execute_input": "2022-10-07T14:52:14.237637Z",
     "iopub.status.busy": "2022-10-07T14:52:14.236845Z",
     "iopub.status.idle": "2022-10-07T14:52:14.495507Z",
     "shell.execute_reply": "2022-10-07T14:52:14.494133Z"
    },
    "papermill": {
     "duration": 0.277043,
     "end_time": "2022-10-07T14:52:14.498194",
     "exception": false,
     "start_time": "2022-10-07T14:52:14.221151",
     "status": "completed"
    },
    "tags": []
   },
   "outputs": [
    {
     "name": "stdout",
     "output_type": "stream",
     "text": [
      "              precision    recall  f1-score   support\n",
      "\n",
      "           0       0.78      0.97      0.87       266\n",
      "           1       0.91      0.53      0.67       152\n",
      "\n",
      "    accuracy                           0.81       418\n",
      "   macro avg       0.85      0.75      0.77       418\n",
      "weighted avg       0.83      0.81      0.79       418\n",
      "\n"
     ]
    },
    {
     "data": {
      "image/png": "[encoded data removed]",
      "text/plain": [
       "<Figure size 576x360 with 2 Axes>"
      ]
     },
     "metadata": {
      "needs_background": "light"
     },
     "output_type": "display_data"
    }
   ],
   "source": [
    "y_test_pred_dt_tuned = dt_tuned.predict(X_test)\n",
    "metrics_score(y_test, y_test_pred_dt_tuned)"
   ]
  },
  {
   "cell_type": "markdown",
   "metadata": {
    "papermill": {
     "duration": 0.013597,
     "end_time": "2022-10-07T14:52:14.526149",
     "exception": false,
     "start_time": "2022-10-07T14:52:14.512552",
     "status": "completed"
    },
    "tags": []
   },
   "source": [
    "Hypertuning has resulted in a modest improvement to the performance of the decision tree, but it still does not perform as well as the logistic regression. Random forests may perform better."
   ]
  },
  {
   "cell_type": "markdown",
   "metadata": {
    "papermill": {
     "duration": 0.013404,
     "end_time": "2022-10-07T14:52:14.553529",
     "exception": false,
     "start_time": "2022-10-07T14:52:14.540125",
     "status": "completed"
    },
    "tags": []
   },
   "source": [
    "### Random Forest"
   ]
  },
  {
   "cell_type": "markdown",
   "metadata": {},
   "source": [
    "Random forests use bagging to produce multiple decision trees, each trained on a slightly different version of the original data set. By combining the output of these trees, a random forest can result in stronger performance than a single decision tree."
   ]
  },
  {
   "cell_type": "code",
   "execution_count": 19,
   "metadata": {
    "execution": {
     "iopub.execute_input": "2022-10-07T14:52:14.583946Z",
     "iopub.status.busy": "2022-10-07T14:52:14.583451Z",
     "iopub.status.idle": "2022-10-07T14:52:14.799559Z",
     "shell.execute_reply": "2022-10-07T14:52:14.798338Z"
    },
    "papermill": {
     "duration": 0.234626,
     "end_time": "2022-10-07T14:52:14.802250",
     "exception": false,
     "start_time": "2022-10-07T14:52:14.567624",
     "status": "completed"
    },
    "tags": []
   },
   "outputs": [
    {
     "data": {
      "text/plain": [
       "RandomForestClassifier(class_weight={0: 0.62, 1: 0.38})"
      ]
     },
     "execution_count": 19,
     "metadata": {},
     "output_type": "execute_result"
    }
   ],
   "source": [
    "rt = RandomForestClassifier(class_weight={0:0.62, 1:0.38})\n",
    "rt.fit(X_train, y_train)"
   ]
  },
  {
   "cell_type": "code",
   "execution_count": 20,
   "metadata": {
    "execution": {
     "iopub.execute_input": "2022-10-07T14:52:14.834065Z",
     "iopub.status.busy": "2022-10-07T14:52:14.833190Z",
     "iopub.status.idle": "2022-10-07T14:52:15.128484Z",
     "shell.execute_reply": "2022-10-07T14:52:15.127204Z"
    },
    "papermill": {
     "duration": 0.314196,
     "end_time": "2022-10-07T14:52:15.131282",
     "exception": false,
     "start_time": "2022-10-07T14:52:14.817086",
     "status": "completed"
    },
    "tags": []
   },
   "outputs": [
    {
     "name": "stdout",
     "output_type": "stream",
     "text": [
      "              precision    recall  f1-score   support\n",
      "\n",
      "           0       0.97      0.99      0.98       549\n",
      "           1       0.99      0.96      0.97       342\n",
      "\n",
      "    accuracy                           0.98       891\n",
      "   macro avg       0.98      0.98      0.98       891\n",
      "weighted avg       0.98      0.98      0.98       891\n",
      "\n"
     ]
    },
    {
     "data": {
      "image/png": "[encoded data removed]",
      "text/plain": [
       "<Figure size 576x360 with 2 Axes>"
      ]
     },
     "metadata": {
      "needs_background": "light"
     },
     "output_type": "display_data"
    }
   ],
   "source": [
    "y_train_pred_rt = rt.predict(X_train)\n",
    "metrics_score(y_train, y_train_pred_rt)"
   ]
  },
  {
   "cell_type": "code",
   "execution_count": 21,
   "metadata": {
    "execution": {
     "iopub.execute_input": "2022-10-07T14:52:15.164575Z",
     "iopub.status.busy": "2022-10-07T14:52:15.163288Z",
     "iopub.status.idle": "2022-10-07T14:52:15.704959Z",
     "shell.execute_reply": "2022-10-07T14:52:15.703463Z"
    },
    "papermill": {
     "duration": 0.561316,
     "end_time": "2022-10-07T14:52:15.707804",
     "exception": false,
     "start_time": "2022-10-07T14:52:15.146488",
     "status": "completed"
    },
    "tags": []
   },
   "outputs": [
    {
     "name": "stdout",
     "output_type": "stream",
     "text": [
      "              precision    recall  f1-score   support\n",
      "\n",
      "           0       0.85      0.87      0.86       266\n",
      "           1       0.76      0.72      0.74       152\n",
      "\n",
      "    accuracy                           0.82       418\n",
      "   macro avg       0.80      0.80      0.80       418\n",
      "weighted avg       0.81      0.82      0.81       418\n",
      "\n"
     ]
    },
    {
     "data": {
      "image/png": "[encoded data removed]",
      "text/plain": [
       "<Figure size 576x360 with 2 Axes>"
      ]
     },
     "metadata": {
      "needs_background": "light"
     },
     "output_type": "display_data"
    }
   ],
   "source": [
    "y_test_pred_rt = rt.predict(X_test)\n",
    "metrics_score(y_test, y_test_pred_rt)"
   ]
  },
  {
   "cell_type": "markdown",
   "metadata": {
    "papermill": {
     "duration": 0.014978,
     "end_time": "2022-10-07T14:52:15.738403",
     "exception": false,
     "start_time": "2022-10-07T14:52:15.723425",
     "status": "completed"
    },
    "tags": []
   },
   "source": [
    "The random forest has not performed better, but hypertuning may help."
   ]
  },
  {
   "cell_type": "markdown",
   "metadata": {
    "papermill": {
     "duration": 0.014772,
     "end_time": "2022-10-07T14:52:15.768394",
     "exception": false,
     "start_time": "2022-10-07T14:52:15.753622",
     "status": "completed"
    },
    "tags": []
   },
   "source": [
    "### Random Forest Hypertuning"
   ]
  },
  {
   "cell_type": "code",
   "execution_count": 22,
   "metadata": {
    "execution": {
     "iopub.execute_input": "2022-10-07T14:52:15.802257Z",
     "iopub.status.busy": "2022-10-07T14:52:15.801700Z",
     "iopub.status.idle": "2022-10-07T14:57:45.541205Z",
     "shell.execute_reply": "2022-10-07T14:57:45.539472Z"
    },
    "papermill": {
     "duration": 329.773503,
     "end_time": "2022-10-07T14:57:45.557205",
     "exception": false,
     "start_time": "2022-10-07T14:52:15.783702",
     "status": "completed"
    },
    "tags": []
   },
   "outputs": [
    {
     "name": "stdout",
     "output_type": "stream",
     "text": [
      "RandomForestClassifier(class_weight={0: 0.62, 1: 0.38}, max_depth=5,\n",
      "                       max_features=0.8, min_samples_leaf=2,\n",
      "                       min_samples_split=5)\n"
     ]
    }
   ],
   "source": [
    "# hyperparameter tuning\n",
    "rf_tuned = RandomForestClassifier(class_weight={0:0.62, 1:0.38})\n",
    "\n",
    "parameters = {'n_estimators': [100, 150, 200, 250],\n",
    "             'min_samples_leaf': np.arange(2, 5),\n",
    "             'max_features': [ 0.8, 0.9, 'auto'],\n",
    "             'max_depth': np.arange(5, 8),\n",
    "             'min_samples_split':[5, 10, 15]}\n",
    "\n",
    "scorer = metrics.make_scorer(accuracy_score, pos_label=1)\n",
    "grid_obj = GridSearchCV(rf_tuned, parameters, scoring=scorer, cv=3)\n",
    "grid_obj.fit(X_train, y_train)\n",
    "rf_tuned = grid_obj.best_estimator_\n",
    "print(rf_tuned)"
   ]
  },
  {
   "cell_type": "code",
   "execution_count": 23,
   "metadata": {
    "execution": {
     "iopub.execute_input": "2022-10-07T14:57:45.594014Z",
     "iopub.status.busy": "2022-10-07T14:57:45.593401Z",
     "iopub.status.idle": "2022-10-07T14:57:45.885350Z",
     "shell.execute_reply": "2022-10-07T14:57:45.884185Z"
    },
    "papermill": {
     "duration": 0.313858,
     "end_time": "2022-10-07T14:57:45.887855",
     "exception": false,
     "start_time": "2022-10-07T14:57:45.573997",
     "status": "completed"
    },
    "tags": []
   },
   "outputs": [
    {
     "name": "stdout",
     "output_type": "stream",
     "text": [
      "              precision    recall  f1-score   support\n",
      "\n",
      "           0       0.82      0.97      0.89       549\n",
      "           1       0.93      0.65      0.77       342\n",
      "\n",
      "    accuracy                           0.85       891\n",
      "   macro avg       0.87      0.81      0.83       891\n",
      "weighted avg       0.86      0.85      0.84       891\n",
      "\n"
     ]
    },
    {
     "data": {
      "image/png": "[encoded data removed]",
      "text/plain": [
       "<Figure size 576x360 with 2 Axes>"
      ]
     },
     "metadata": {
      "needs_background": "light"
     },
     "output_type": "display_data"
    }
   ],
   "source": [
    "y_train_pred_rf_tuned = rf_tuned.predict(X_train)\n",
    "metrics_score(y_train, y_train_pred_rf_tuned)"
   ]
  },
  {
   "cell_type": "code",
   "execution_count": 24,
   "metadata": {
    "execution": {
     "iopub.execute_input": "2022-10-07T14:57:45.921084Z",
     "iopub.status.busy": "2022-10-07T14:57:45.920373Z",
     "iopub.status.idle": "2022-10-07T14:57:46.180807Z",
     "shell.execute_reply": "2022-10-07T14:57:46.179672Z"
    },
    "papermill": {
     "duration": 0.279823,
     "end_time": "2022-10-07T14:57:46.183185",
     "exception": false,
     "start_time": "2022-10-07T14:57:45.903362",
     "status": "completed"
    },
    "tags": []
   },
   "outputs": [
    {
     "name": "stdout",
     "output_type": "stream",
     "text": [
      "              precision    recall  f1-score   support\n",
      "\n",
      "           0       0.83      0.96      0.89       266\n",
      "           1       0.91      0.66      0.77       152\n",
      "\n",
      "    accuracy                           0.85       418\n",
      "   macro avg       0.87      0.81      0.83       418\n",
      "weighted avg       0.86      0.85      0.85       418\n",
      "\n"
     ]
    },
    {
     "data": {
      "image/png": "[encoded data removed]",
      "text/plain": [
       "<Figure size 576x360 with 2 Axes>"
      ]
     },
     "metadata": {
      "needs_background": "light"
     },
     "output_type": "display_data"
    }
   ],
   "source": [
    "y_test_pred_rf_tuned = rf_tuned.predict(X_test)\n",
    "metrics_score(y_test, y_test_pred_rf_tuned)"
   ]
  },
  {
   "cell_type": "markdown",
   "metadata": {
    "papermill": {
     "duration": 0.015285,
     "end_time": "2022-10-07T14:57:46.214341",
     "exception": false,
     "start_time": "2022-10-07T14:57:46.199056",
     "status": "completed"
    },
    "tags": []
   },
   "source": [
    "Hypertuning has improved performance, but the random forest hasn't performed better than our logistic regression. An ensemble approach may perform better."
   ]
  },
  {
   "cell_type": "markdown",
   "metadata": {
    "papermill": {
     "duration": 0.015142,
     "end_time": "2022-10-07T14:57:46.245095",
     "exception": false,
     "start_time": "2022-10-07T14:57:46.229953",
     "status": "completed"
    },
    "tags": []
   },
   "source": [
    "### XGBoost"
   ]
  },
  {
   "cell_type": "markdown",
   "metadata": {},
   "source": [
    "XGBoost is an ensemble machine learning model similar to random forests, but with a focus on generating multiple, weaker classification models that, when used together, produce stronger results."
   ]
  },
  {
   "cell_type": "code",
   "execution_count": 25,
   "metadata": {
    "execution": {
     "iopub.execute_input": "2022-10-07T14:57:46.279169Z",
     "iopub.status.busy": "2022-10-07T14:57:46.278356Z",
     "iopub.status.idle": "2022-10-07T15:03:34.123210Z",
     "shell.execute_reply": "2022-10-07T15:03:34.121933Z"
    },
    "papermill": {
     "duration": 347.865031,
     "end_time": "2022-10-07T15:03:34.126244",
     "exception": false,
     "start_time": "2022-10-07T14:57:46.261213",
     "status": "completed"
    },
    "tags": []
   },
   "outputs": [
    {
     "name": "stdout",
     "output_type": "stream",
     "text": [
      "Fitting 5 folds for each of 120 candidates, totalling 600 fits\n"
     ]
    }
   ],
   "source": [
    "xgb_tuned = xgb.XGBClassifier()\n",
    "\n",
    "parameters = {'learning_rate':[0.001],\n",
    "             'max_depth': np.arange(2, 10),\n",
    "             'n_estimators': [100, 200, 300],\n",
    "             'objective':['reg:logistic'],\n",
    "             'alpha': np.arange(5, 10)}\n",
    "\n",
    "scorer = metrics.make_scorer(recall_score, pos_label=1)\n",
    "\n",
    "grid_obj = GridSearchCV(xgb_tuned, parameters, scoring=scorer, cv=5, verbose=1)\n",
    "\n",
    "grid_obj.fit(X_train, y_train)\n",
    "\n",
    "xgb_tuned = grid_obj.best_estimator_"
   ]
  },
  {
   "cell_type": "code",
   "execution_count": 26,
   "metadata": {
    "execution": {
     "iopub.execute_input": "2022-10-07T15:03:34.162560Z",
     "iopub.status.busy": "2022-10-07T15:03:34.162088Z",
     "iopub.status.idle": "2022-10-07T15:03:34.175432Z",
     "shell.execute_reply": "2022-10-07T15:03:34.174170Z"
    },
    "papermill": {
     "duration": 0.033871,
     "end_time": "2022-10-07T15:03:34.177834",
     "exception": false,
     "start_time": "2022-10-07T15:03:34.143963",
     "status": "completed"
    },
    "tags": []
   },
   "outputs": [
    {
     "data": {
      "text/plain": [
       "XGBClassifier(alpha=5, base_score=0.5, booster='gbtree', callbacks=None,\n",
       "              colsample_bylevel=1, colsample_bynode=1, colsample_bytree=1,\n",
       "              early_stopping_rounds=None, enable_categorical=False,\n",
       "              eval_metric=None, gamma=0, gpu_id=-1, grow_policy='depthwise',\n",
       "              importance_type=None, interaction_constraints='',\n",
       "              learning_rate=0.001, max_bin=256, max_cat_to_onehot=4,\n",
       "              max_delta_step=0, max_depth=4, max_leaves=0, min_child_weight=1,\n",
       "              missing=nan, monotone_constraints='()', n_estimators=200,\n",
       "              n_jobs=0, num_parallel_tree=1, objective='reg:logistic',\n",
       "              predictor='auto', random_state=0, ...)"
      ]
     },
     "execution_count": 26,
     "metadata": {},
     "output_type": "execute_result"
    }
   ],
   "source": [
    "xgb_tuned"
   ]
  },
  {
   "cell_type": "code",
   "execution_count": 27,
   "metadata": {
    "execution": {
     "iopub.execute_input": "2022-10-07T15:03:34.212879Z",
     "iopub.status.busy": "2022-10-07T15:03:34.212064Z",
     "iopub.status.idle": "2022-10-07T15:03:34.484050Z",
     "shell.execute_reply": "2022-10-07T15:03:34.483198Z"
    },
    "papermill": {
     "duration": 0.292846,
     "end_time": "2022-10-07T15:03:34.486520",
     "exception": false,
     "start_time": "2022-10-07T15:03:34.193674",
     "status": "completed"
    },
    "tags": []
   },
   "outputs": [
    {
     "name": "stdout",
     "output_type": "stream",
     "text": [
      "              precision    recall  f1-score   support\n",
      "\n",
      "           0       0.84      0.90      0.87       549\n",
      "           1       0.82      0.73      0.77       342\n",
      "\n",
      "    accuracy                           0.84       891\n",
      "   macro avg       0.83      0.82      0.82       891\n",
      "weighted avg       0.84      0.84      0.83       891\n",
      "\n"
     ]
    },
    {
     "data": {
      "image/png": "[encoded data removed]",
      "text/plain": [
       "<Figure size 576x360 with 2 Axes>"
      ]
     },
     "metadata": {
      "needs_background": "light"
     },
     "output_type": "display_data"
    }
   ],
   "source": [
    "y_train_pred_xgb_tuned = xgb_tuned.predict(X_train)\n",
    "metrics_score(y_train, y_train_pred_xgb_tuned)"
   ]
  },
  {
   "cell_type": "code",
   "execution_count": 28,
   "metadata": {
    "execution": {
     "iopub.execute_input": "2022-10-07T15:03:34.522848Z",
     "iopub.status.busy": "2022-10-07T15:03:34.522010Z",
     "iopub.status.idle": "2022-10-07T15:03:35.009564Z",
     "shell.execute_reply": "2022-10-07T15:03:35.007842Z"
    },
    "papermill": {
     "duration": 0.509134,
     "end_time": "2022-10-07T15:03:35.012326",
     "exception": false,
     "start_time": "2022-10-07T15:03:34.503192",
     "status": "completed"
    },
    "tags": []
   },
   "outputs": [
    {
     "name": "stdout",
     "output_type": "stream",
     "text": [
      "              precision    recall  f1-score   support\n",
      "\n",
      "           0       0.97      0.96      0.96       266\n",
      "           1       0.93      0.94      0.94       152\n",
      "\n",
      "    accuracy                           0.95       418\n",
      "   macro avg       0.95      0.95      0.95       418\n",
      "weighted avg       0.95      0.95      0.95       418\n",
      "\n"
     ]
    },
    {
     "data": {
      "image/png": "[encoded data removed]",
      "text/plain": [
       "<Figure size 576x360 with 2 Axes>"
      ]
     },
     "metadata": {
      "needs_background": "light"
     },
     "output_type": "display_data"
    }
   ],
   "source": [
    "y_test_pred_xgb_tuned = xgb_tuned.predict(X_test)\n",
    "metrics_score(y_test, y_test_pred_xgb_tuned)"
   ]
  },
  {
   "cell_type": "markdown",
   "metadata": {
    "papermill": {
     "duration": 0.016908,
     "end_time": "2022-10-07T15:03:35.047800",
     "exception": false,
     "start_time": "2022-10-07T15:03:35.030892",
     "status": "completed"
    },
    "tags": []
   },
   "source": [
    "The boosted model performed quite well, slightly better than the logistic regression. The accuracy of this final model is 0.95, meaning it missclassifies only 5% of passengers."
   ]
  },
  {
   "cell_type": "code",
   "execution_count": 29,
   "metadata": {
    "execution": {
     "iopub.execute_input": "2022-10-07T15:03:35.084794Z",
     "iopub.status.busy": "2022-10-07T15:03:35.084313Z",
     "iopub.status.idle": "2022-10-07T15:03:35.095236Z",
     "shell.execute_reply": "2022-10-07T15:03:35.094314Z"
    },
    "papermill": {
     "duration": 0.032639,
     "end_time": "2022-10-07T15:03:35.097703",
     "exception": false,
     "start_time": "2022-10-07T15:03:35.065064",
     "status": "completed"
    },
    "tags": []
   },
   "outputs": [],
   "source": [
    "output = pd.DataFrame({'PassengerId':df_test['PassengerId'],\n",
    "                          'Survived':y_test_pred_xgb_tuned})\n",
    "\n",
    "output.to_csv('submission.csv', index=False)"
   ]
  }
 ],
 "metadata": {
  "kernelspec": {
   "display_name": "Python 3",
   "language": "python",
   "name": "python3"
  },
  "language_info": {
   "codemirror_mode": {
    "name": "ipython",
    "version": 3
   },
   "file_extension": ".py",
   "mimetype": "text/x-python",
   "name": "python",
   "nbconvert_exporter": "python",
   "pygments_lexer": "ipython3",
   "version": "3.8.2"
  },
  "papermill": {
   "default_parameters": {},
   "duration": 704.575242,
   "end_time": "2022-10-07T15:03:36.040608",
   "environment_variables": {},
   "exception": null,
   "input_path": "__notebook__.ipynb",
   "output_path": "__notebook__.ipynb",
   "parameters": {},
   "start_time": "2022-10-07T14:51:51.465366",
   "version": "2.3.4"
  }
 },
 "nbformat": 4,
 "nbformat_minor": 5
}
